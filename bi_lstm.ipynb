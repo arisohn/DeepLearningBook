{
  "nbformat": 4,
  "nbformat_minor": 0,
  "metadata": {
    "kernelspec": {
      "display_name": "Python 3",
      "language": "python",
      "name": "python3"
    },
    "language_info": {
      "codemirror_mode": {
        "name": "ipython",
        "version": 3
      },
      "file_extension": ".py",
      "mimetype": "text/x-python",
      "name": "python",
      "nbconvert_exporter": "python",
      "pygments_lexer": "ipython3",
      "version": "3.7.4"
    },
    "colab": {
      "name": "bi_lstm.ipynb의 사본",
      "provenance": [],
      "include_colab_link": true
    }
  },
  "cells": [
    {
      "cell_type": "markdown",
      "metadata": {
        "id": "view-in-github",
        "colab_type": "text"
      },
      "source": [
        "<a href=\"https://colab.research.google.com/github/arisohn/DeepLearningBook/blob/master/bi_lstm.ipynb\" target=\"_parent\"><img src=\"https://colab.research.google.com/assets/colab-badge.svg\" alt=\"Open In Colab\"/></a>"
      ]
    },
    {
      "cell_type": "markdown",
      "metadata": {
        "id": "LevvVHoT7oSH",
        "colab_type": "text"
      },
      "source": [
        "### Refs\n",
        "- https://buomsoo-kim.github.io/keras/2019/07/29/Easy-deep-learning-with-Keras-20.md/\n",
        "- https://www.tensorflow.org/tutorials/text/text_classification_rnn\n",
        "- https://medium.com/@david.campion/text-generation-using-bidirectional-lstm-and-doc2vec-models-1-3-8979eb65cb3a\n",
        "- https://github.com/campdav/Text-Generation-using-Bidirectional-LSTM-and-Doc2Vec-models\n",
        "- https://www.tensorflow.org/tutorials/text/text_generation\n",
        "- https://keras.io/examples/lstm_text_generation/\n",
        "\n",
        "### Training large data set"
      ]
    },
    {
      "cell_type": "code",
      "metadata": {
        "id": "iHjoc6GT7oSJ",
        "colab_type": "code",
        "colab": {}
      },
      "source": [
        "from IPython.core.display import display, HTML\n",
        "display(HTML(\"<style>.container {width:100% !important;} </style>\"))\n",
        "display(HTML(\"<style>.CodeMirror pre {font-family: Monaco; font-size: 9pt;} </style>\"))"
      ],
      "execution_count": 0,
      "outputs": []
    },
    {
      "cell_type": "code",
      "metadata": {
        "id": "MfZ5t7Jq7oSN",
        "colab_type": "code",
        "colab": {}
      },
      "source": [
        "import tensorflow as tf\n",
        "import tensorflow.keras as keras\n",
        "import tensorflow.keras.layers as layers\n",
        "import tensorflow.keras.preprocessing.sequence as sequence\n",
        "import pickle\n",
        "import itertools\n",
        "from keras.utils import to_categorical\n",
        "import numpy as np"
      ],
      "execution_count": 0,
      "outputs": []
    },
    {
      "cell_type": "code",
      "metadata": {
        "id": "O_vGCzq17oSR",
        "colab_type": "code",
        "colab": {}
      },
      "source": [
        "# input  : [[word, word, ..., word], ..., [word, word, ..., word]]\n",
        "# output : [[word], ..., [word]]"
      ],
      "execution_count": 0,
      "outputs": []
    },
    {
      "cell_type": "code",
      "metadata": {
        "id": "EuSOTCVi7oSV",
        "colab_type": "code",
        "colab": {}
      },
      "source": [
        "with open('wikipedia_10000_5_5_xs.dat', 'rb') as f:\n",
        "  xs = pickle.load(f)\n",
        "   \n",
        "with open('wikipedia_10000_5_5_ys.dat', 'rb') as f:\n",
        "  ys = pickle.load(f)"
      ],
      "execution_count": 0,
      "outputs": []
    },
    {
      "cell_type": "code",
      "metadata": {
        "id": "ctyaKfDZ7oSZ",
        "colab_type": "code",
        "colab": {}
      },
      "source": [
        "xs = np.array(xs[:8*1024])\n",
        "ys = np.array(to_categorical(ys)[:8*1024])"
      ],
      "execution_count": 0,
      "outputs": []
    },
    {
      "cell_type": "code",
      "metadata": {
        "id": "e2VCsTSt7oSe",
        "colab_type": "code",
        "colab": {}
      },
      "source": [
        "vocab_size = 217009\n",
        "embedding_size = 1024\n",
        "hidden_size = 64"
      ],
      "execution_count": 0,
      "outputs": []
    },
    {
      "cell_type": "code",
      "metadata": {
        "id": "tINTcapH7oSj",
        "colab_type": "code",
        "colab": {}
      },
      "source": [
        "\"\"\"\n",
        "  Embedding: \n",
        "    - mask_zero=False\n",
        "  \n",
        "  LSTM: \n",
        "    - units: dimensionality of the output space\n",
        "    - return_sequences=False (default)\n",
        "    \n",
        "  Dense:\n",
        "    - units: dimensionality of the output space\n",
        "    \n",
        "  training mode\n",
        "\"\"\"\n",
        "\n",
        "model = tf.keras.Sequential([\n",
        "  tf.keras.layers.Embedding(vocab_size, embedding_size, input_length=4),\n",
        "  tf.keras.layers.Bidirectional(tf.keras.layers.LSTM((units = hidden_size, return_sequences = True))\n",
        "  tf.keras.layers.Bidirectional(tf.keras.layers.LSTM(units = hidden_size)),\n",
        "  tf.keras.layers.Dense(units = vocab_size),\n",
        "  tf.keras.layers.Activation('softmax')\n",
        "])"
      ],
      "execution_count": 0,
      "outputs": []
    },
    {
      "cell_type": "code",
      "metadata": {
        "id": "NnVy0QQF7oSn",
        "colab_type": "code",
        "colab": {}
      },
      "source": [
        "model.summary()"
      ],
      "execution_count": 0,
      "outputs": []
    },
    {
      "cell_type": "code",
      "metadata": {
        "id": "gjazFl-X7oSs",
        "colab_type": "code",
        "colab": {}
      },
      "source": [
        "model.compile(loss=tf.keras.losses.categorical_crossentropy, optimizer=tf.keras.optimizers.Adam(1e-4), metrics=['accuracy'])"
      ],
      "execution_count": 0,
      "outputs": []
    },
    {
      "cell_type": "code",
      "metadata": {
        "scrolled": true,
        "id": "YEEWnEL97oSx",
        "colab_type": "code",
        "colab": {}
      },
      "source": [
        "model.fit(xs, ys, batch_size=1024)  "
      ],
      "execution_count": 0,
      "outputs": []
    }
  ]
}